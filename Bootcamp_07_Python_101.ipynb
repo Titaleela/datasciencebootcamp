{
  "nbformat": 4,
  "nbformat_minor": 0,
  "metadata": {
    "colab": {
      "provenance": [],
      "include_colab_link": true
    },
    "kernelspec": {
      "name": "python3",
      "display_name": "Python 3"
    },
    "language_info": {
      "name": "python"
    }
  },
  "cells": [
    {
      "cell_type": "markdown",
      "metadata": {
        "id": "view-in-github",
        "colab_type": "text"
      },
      "source": [
        "<a href=\"https://colab.research.google.com/github/Titaleela/datasciencebootcamp/blob/main/Bootcamp_07_Python_101.ipynb\" target=\"_parent\"><img src=\"https://colab.research.google.com/assets/colab-badge.svg\" alt=\"Open In Colab\"/></a>"
      ]
    },
    {
      "cell_type": "markdown",
      "source": [
        "#Essential Python 101\n",
        "\n",
        "Today we are learning Python 101 for beginners\n",
        "*   Variables\n",
        "*   Data Types\n",
        "*   Data Structure\n",
        "*   Fuction\n",
        "*   Control Flow\n",
        "*   OOP\n",
        "\n",
        "Python is case sensitive!\n"
      ],
      "metadata": {
        "id": "HoizoFtLfQWs"
      }
    },
    {
      "cell_type": "code",
      "execution_count": null,
      "metadata": {
        "colab": {
          "base_uri": "https://localhost:8080/"
        },
        "id": "pi8OoNEHfEu4",
        "outputId": "d600776d-19f8-472e-a711-6b1ce51b1dbb"
      },
      "outputs": [
        {
          "output_type": "stream",
          "name": "stdout",
          "text": [
            "hello world\n"
          ]
        }
      ],
      "source": [
        "ßprint(\"hello world\")"
      ]
    },
    {
      "cell_type": "code",
      "source": [
        "print(\"I am learning Python 101!\")"
      ],
      "metadata": {
        "colab": {
          "base_uri": "https://localhost:8080/"
        },
        "id": "l-NHhbJ1g504",
        "outputId": "df6a1052-bbe3-4de5-fc4d-f948bd0f1f9f"
      },
      "execution_count": null,
      "outputs": [
        {
          "output_type": "stream",
          "name": "stdout",
          "text": [
            "I am learning Python 101!\n"
          ]
        }
      ]
    },
    {
      "cell_type": "code",
      "source": [
        "#comment\n",
        "#this is just a note\n",
        "print(1+1)\n",
        "print(2*2)"
      ],
      "metadata": {
        "colab": {
          "base_uri": "https://localhost:8080/"
        },
        "id": "IBJY9ue_hBMN",
        "outputId": "978bc566-5b12-4c7a-cfd9-cb4c6a23d16e"
      },
      "execution_count": null,
      "outputs": [
        {
          "output_type": "stream",
          "name": "stdout",
          "text": [
            "2\n",
            "4\n"
          ]
        }
      ]
    },
    {
      "cell_type": "code",
      "source": [
        "#basic Calculation\n",
        "7//2 #floor division"
      ],
      "metadata": {
        "colab": {
          "base_uri": "https://localhost:8080/"
        },
        "id": "rnvLJTt6hTvJ",
        "outputId": "81b00467-83bf-4897-c2de-84324d3ced68"
      },
      "execution_count": null,
      "outputs": [
        {
          "output_type": "execute_result",
          "data": {
            "text/plain": [
              "3"
            ]
          },
          "metadata": {},
          "execution_count": 5
        }
      ]
    },
    {
      "cell_type": "code",
      "source": [
        "pow(5,2)"
      ],
      "metadata": {
        "colab": {
          "base_uri": "https://localhost:8080/"
        },
        "id": "sLyPHBd8h9EM",
        "outputId": "08ea7563-ea91-4a10-c4ad-a7912963dac4"
      },
      "execution_count": null,
      "outputs": [
        {
          "output_type": "execute_result",
          "data": {
            "text/plain": [
              "25"
            ]
          },
          "metadata": {},
          "execution_count": 6
        }
      ]
    },
    {
      "cell_type": "code",
      "source": [
        "abs(-666)"
      ],
      "metadata": {
        "colab": {
          "base_uri": "https://localhost:8080/"
        },
        "id": "gw--ATfmiDTJ",
        "outputId": "65e913de-777f-4604-c723-502bc4908cd6"
      },
      "execution_count": null,
      "outputs": [
        {
          "output_type": "execute_result",
          "data": {
            "text/plain": [
              "666"
            ]
          },
          "metadata": {},
          "execution_count": 7
        }
      ]
    },
    {
      "cell_type": "code",
      "source": [
        "#modulo\n",
        "5%3"
      ],
      "metadata": {
        "colab": {
          "base_uri": "https://localhost:8080/"
        },
        "id": "_rKoQSCLiZI0",
        "outputId": "e8075a99-6ede-455e-c726-b7e775bb94d2"
      },
      "execution_count": null,
      "outputs": [
        {
          "output_type": "execute_result",
          "data": {
            "text/plain": [
              "2"
            ]
          },
          "metadata": {},
          "execution_count": 8
        }
      ]
    },
    {
      "cell_type": "code",
      "source": [
        "#string in python variables\n",
        "my_name = \"toy\"\n",
        "age = 34\n",
        "gpa = 3.41\n",
        "movie_lover = True #False"
      ],
      "metadata": {
        "id": "1oea6EMTi_Xp"
      },
      "execution_count": 1,
      "outputs": []
    },
    {
      "cell_type": "code",
      "source": [
        "#Case Sensitive\n",
        "print(age, gpa, movie_lover, my_name)"
      ],
      "metadata": {
        "colab": {
          "base_uri": "https://localhost:8080/",
          "height": 0
        },
        "id": "L8-DJQiwj37n",
        "outputId": "03ac94dd-9f8b-41be-ed36-fded99c5665d"
      },
      "execution_count": 2,
      "outputs": [
        {
          "output_type": "stream",
          "name": "stdout",
          "text": [
            "34 3.41 True toy\n"
          ]
        }
      ]
    },
    {
      "cell_type": "code",
      "source": [
        "new_age = age - 12\n",
        "print(age, new_age)"
      ],
      "metadata": {
        "colab": {
          "base_uri": "https://localhost:8080/"
        },
        "id": "bQTly2WQkT92",
        "outputId": "e441a3dc-fc05-41b0-cd9d-269c4851588e"
      },
      "execution_count": null,
      "outputs": [
        {
          "output_type": "stream",
          "name": "stdout",
          "text": [
            "34 22\n"
          ]
        }
      ]
    },
    {
      "cell_type": "code",
      "source": [
        "s23_price = 2999\n",
        "discount = 0.15\n",
        "new_s23_price = s23_price * (1-discount)\n",
        "\n",
        "print(new_s23_price)"
      ],
      "metadata": {
        "colab": {
          "base_uri": "https://localhost:8080/"
        },
        "id": "42BFReSTkzOZ",
        "outputId": "d9ac767e-2f6d-4b35-acac-23067e9ff95a"
      },
      "execution_count": null,
      "outputs": [
        {
          "output_type": "stream",
          "name": "stdout",
          "text": [
            "2549.15\n"
          ]
        }
      ]
    },
    {
      "cell_type": "code",
      "source": [
        "del new_s23_price"
      ],
      "metadata": {
        "id": "iTcCIKhqlcKQ"
      },
      "execution_count": null,
      "outputs": []
    },
    {
      "cell_type": "code",
      "source": [
        "age = 34\n",
        "age += 1\n",
        "age += 1\n",
        "age += 1\n",
        "age -= 2\n",
        "age *= 2\n",
        "age /= 2\n",
        "print(age)"
      ],
      "metadata": {
        "colab": {
          "base_uri": "https://localhost:8080/"
        },
        "id": "1VuuX59pl2Tg",
        "outputId": "830f5087-591d-4dec-ec2a-1fd5a93167e6"
      },
      "execution_count": null,
      "outputs": [
        {
          "output_type": "stream",
          "name": "stdout",
          "text": [
            "35.0\n"
          ]
        }
      ]
    },
    {
      "cell_type": "code",
      "source": [
        "age = 34\n",
        "gpa = 3.41\n",
        "school = \"CU\"\n",
        "movie_lover = True"
      ],
      "metadata": {
        "id": "EEGFXoINmdZQ"
      },
      "execution_count": null,
      "outputs": []
    },
    {
      "cell_type": "code",
      "source": [
        "#check data types\n",
        "print(type(age))\n",
        "print(type(gpa))\n",
        "print(type(school))\n",
        "print(type(movie_lover))"
      ],
      "metadata": {
        "colab": {
          "base_uri": "https://localhost:8080/"
        },
        "id": "oSNTFHKenCHA",
        "outputId": "d2d4b851-0b83-4353-9c09-384eb5bd3eee"
      },
      "execution_count": null,
      "outputs": [
        {
          "output_type": "stream",
          "name": "stdout",
          "text": [
            "<class 'int'>\n",
            "<class 'float'>\n",
            "<class 'str'>\n",
            "<class 'bool'>\n"
          ]
        }
      ]
    },
    {
      "cell_type": "code",
      "source": [
        "#conver type\n",
        "x = 100\n",
        "x =     str(x)\n",
        "print(x)\n",
        "print(type(x))"
      ],
      "metadata": {
        "colab": {
          "base_uri": "https://localhost:8080/"
        },
        "id": "JtAASBVknlzn",
        "outputId": "2adfb286-0fe7-49e1-fcbc-7d114538fe18"
      },
      "execution_count": null,
      "outputs": [
        {
          "output_type": "stream",
          "name": "stdout",
          "text": [
            "100\n",
            "<class 'str'>\n"
          ]
        }
      ]
    },
    {
      "cell_type": "code",
      "source": [
        "y = False #T=1 F=0\n",
        "y = int(y)\n",
        "print(y, type(y))"
      ],
      "metadata": {
        "colab": {
          "base_uri": "https://localhost:8080/"
        },
        "id": "BTLTBzXonwLy",
        "outputId": "2bd61b47-437e-4a7e-9c35-3def186b25d1"
      },
      "execution_count": null,
      "outputs": [
        {
          "output_type": "stream",
          "name": "stdout",
          "text": [
            "0 <class 'int'>\n"
          ]
        }
      ]
    },
    {
      "cell_type": "code",
      "source": [
        "z = 1\n",
        "z= bool(z)\n",
        "print(z, type(z))"
      ],
      "metadata": {
        "colab": {
          "base_uri": "https://localhost:8080/"
        },
        "id": "DYFXPmMxoPg3",
        "outputId": "a88cc8dc-3657-4937-87a4-4464282ea5dd"
      },
      "execution_count": null,
      "outputs": [
        {
          "output_type": "stream",
          "name": "stdout",
          "text": [
            "True <class 'bool'>\n"
          ]
        }
      ]
    },
    {
      "cell_type": "code",
      "source": [
        "text = \"hello\"\n",
        "text + text + text"
      ],
      "metadata": {
        "colab": {
          "base_uri": "https://localhost:8080/",
          "height": 35
        },
        "id": "cmvgbd4yoXPL",
        "outputId": "a74090be-7238-4d91-85b0-a35a42fb4d71"
      },
      "execution_count": null,
      "outputs": [
        {
          "output_type": "execute_result",
          "data": {
            "text/plain": [
              "'hellohellohello'"
            ],
            "application/vnd.google.colaboratory.intrinsic+json": {
              "type": "string"
            }
          },
          "metadata": {},
          "execution_count": 23
        }
      ]
    },
    {
      "cell_type": "code",
      "source": [
        "print(text*4)"
      ],
      "metadata": {
        "colab": {
          "base_uri": "https://localhost:8080/"
        },
        "id": "ADdM_sA0o83X",
        "outputId": "91d2b71b-7695-424f-ec51-492e2bbfb0c7"
      },
      "execution_count": null,
      "outputs": [
        {
          "output_type": "stream",
          "name": "stdout",
          "text": [
            "hellohellohellohello\n"
          ]
        }
      ]
    },
    {
      "cell_type": "code",
      "source": [
        "#type hint\n",
        "age: int = 34\n",
        "my_name: str = \"Toy\"\n",
        "gpa: float = 3.41\n",
        "movie_lover: bool = True\n",
        "print(age, type(age))"
      ],
      "metadata": {
        "colab": {
          "base_uri": "https://localhost:8080/"
        },
        "id": "KmnPahQ8o_bA",
        "outputId": "93151762-fb05-451a-c153-307966a4e887"
      },
      "execution_count": null,
      "outputs": [
        {
          "output_type": "stream",
          "name": "stdout",
          "text": [
            "34 <class 'int'>\n"
          ]
        }
      ]
    },
    {
      "cell_type": "code",
      "source": [
        "#function\n",
        "print(\"hello\", \"world\")"
      ],
      "metadata": {
        "colab": {
          "base_uri": "https://localhost:8080/"
        },
        "id": "WuaUIfgBp-b3",
        "outputId": "9ec90947-6e57-4d38-9fe7-dfdfc18f755f"
      },
      "execution_count": null,
      "outputs": [
        {
          "output_type": "stream",
          "name": "stdout",
          "text": [
            "hello world\n"
          ]
        }
      ]
    },
    {
      "cell_type": "code",
      "source": [
        "#greeting\n",
        "def greeting(name = \"Toy\", location = \"New York\"):\n",
        "    print(\"hello \" + name)\n",
        "    print(\"Home location is \" + location)"
      ],
      "metadata": {
        "id": "Iz2k03kyqIgA"
      },
      "execution_count": null,
      "outputs": []
    },
    {
      "cell_type": "code",
      "source": [
        "greeting(location = \"Japan\", name = \"Naruto\")"
      ],
      "metadata": {
        "colab": {
          "base_uri": "https://localhost:8080/"
        },
        "id": "tNqPjCjkqlnO",
        "outputId": "f997113d-51ed-4e13-92df-b512c5906a3f"
      },
      "execution_count": null,
      "outputs": [
        {
          "output_type": "stream",
          "name": "stdout",
          "text": [
            "hello Naruto\n",
            "Home location is Japan\n"
          ]
        }
      ]
    },
    {
      "cell_type": "code",
      "source": [
        "def add_two_nums(num1, num2):\n",
        "    print(\"hello world!\")\n",
        "    return num1 + num2\n",
        "    print(\"Done!\")\n",
        "    #return is the end of the coding #It would not show anything after the return line"
      ],
      "metadata": {
        "id": "jjWb7O0-qpZO"
      },
      "execution_count": null,
      "outputs": []
    },
    {
      "cell_type": "code",
      "source": [
        "result = add_two_nums(5, 15)\n",
        "print(result)"
      ],
      "metadata": {
        "colab": {
          "base_uri": "https://localhost:8080/"
        },
        "id": "aE5jsp4fsXin",
        "outputId": "85331abc-7a44-47cf-9954-bd2036bf91b6"
      },
      "execution_count": null,
      "outputs": [
        {
          "output_type": "stream",
          "name": "stdout",
          "text": [
            "hello world!\n",
            "20\n"
          ]
        }
      ]
    },
    {
      "cell_type": "markdown",
      "source": [
        "Return is that we finish the function! It will show the end result for us!"
      ],
      "metadata": {
        "id": "Y7rQzCn9taui"
      }
    },
    {
      "cell_type": "code",
      "source": [
        "def add_two_nums(a:int, b:int) -> int:\n",
        "    return a+b"
      ],
      "metadata": {
        "id": "66aGqLf7sn2O"
      },
      "execution_count": null,
      "outputs": []
    },
    {
      "cell_type": "code",
      "source": [
        "add_two_nums(6, 12)"
      ],
      "metadata": {
        "colab": {
          "base_uri": "https://localhost:8080/"
        },
        "id": "jhZt4KW7t_AB",
        "outputId": "3f8e7dc9-93af-4759-ade0-5769f5e16501"
      },
      "execution_count": null,
      "outputs": [
        {
          "output_type": "execute_result",
          "data": {
            "text/plain": [
              "18"
            ]
          },
          "metadata": {},
          "execution_count": 56
        }
      ]
    },
    {
      "cell_type": "code",
      "source": [
        "#work with string\n",
        "text = \"Hello\" #single quote\n",
        "long_text= \"\"\"this is a\n",
        "realy really long text.\n",
        "This is a new line.\"\"\" #triple quotes\n",
        "\n",
        "print(text)\n",
        "print(long_text)"
      ],
      "metadata": {
        "colab": {
          "base_uri": "https://localhost:8080/"
        },
        "id": "MZ3gGWAruCSZ",
        "outputId": "48cffdeb-1a87-4f65-ac84-2d1d4bd5768c"
      },
      "execution_count": null,
      "outputs": [
        {
          "output_type": "stream",
          "name": "stdout",
          "text": [
            "Hello\n",
            "this is a \n",
            "realy really long text.\n",
            "This is a new line.\n"
          ]
        }
      ]
    },
    {
      "cell_type": "code",
      "source": [
        "#string template: fstrings\n",
        "my_name = \"Tita\"\n",
        "location = \"New York\"\n",
        "\n",
        "text = f\"Hi! My name is {my_name} and I live in {location}\"\n",
        "print(text)"
      ],
      "metadata": {
        "colab": {
          "base_uri": "https://localhost:8080/"
        },
        "id": "o-ABKaapuQtn",
        "outputId": "4585da6d-6580-429e-c1e0-c76f3c9c8d08"
      },
      "execution_count": null,
      "outputs": [
        {
          "output_type": "stream",
          "name": "stdout",
          "text": [
            "Hi! My name is Tita and I live in New York\n"
          ]
        }
      ]
    },
    {
      "cell_type": "code",
      "source": [
        "\"Hi! My name is {}, location: {}\". format(my_name, location)"
      ],
      "metadata": {
        "colab": {
          "base_uri": "https://localhost:8080/",
          "height": 35
        },
        "id": "jsteVdNNuxJW",
        "outputId": "f6a1bb01-3b8b-448e-e2f4-f5ad457b58f3"
      },
      "execution_count": null,
      "outputs": [
        {
          "output_type": "execute_result",
          "data": {
            "text/plain": [
              "'Hi! My name is Tita, location: New York'"
            ],
            "application/vnd.google.colaboratory.intrinsic+json": {
              "type": "string"
            }
          },
          "metadata": {},
          "execution_count": 66
        }
      ]
    },
    {
      "cell_type": "code",
      "source": [
        "text = \"a duck walks into a bar\"\n",
        "print(text)"
      ],
      "metadata": {
        "colab": {
          "base_uri": "https://localhost:8080/"
        },
        "id": "EEMFGyravhwZ",
        "outputId": "9eedcab6-0d53-4061-ac60-5034fab1aede"
      },
      "execution_count": null,
      "outputs": [
        {
          "output_type": "stream",
          "name": "stdout",
          "text": [
            "a duck walks into a bar\n"
          ]
        }
      ]
    },
    {
      "cell_type": "code",
      "source": [
        "len(text)"
      ],
      "metadata": {
        "colab": {
          "base_uri": "https://localhost:8080/"
        },
        "id": "vTu-x55LvoPd",
        "outputId": "02d216ea-337c-4082-bd2d-c796d43f455a"
      },
      "execution_count": null,
      "outputs": [
        {
          "output_type": "execute_result",
          "data": {
            "text/plain": [
              "23"
            ]
          },
          "metadata": {},
          "execution_count": 68
        }
      ]
    },
    {
      "cell_type": "code",
      "source": [
        "#slicing\n",
        "print(text[0], text[-1], text[22])"
      ],
      "metadata": {
        "colab": {
          "base_uri": "https://localhost:8080/"
        },
        "id": "84Xi2XoXvw6u",
        "outputId": "d2ef23be-103a-435c-d25b-543b320f3f1d"
      },
      "execution_count": null,
      "outputs": [
        {
          "output_type": "stream",
          "name": "stdout",
          "text": [
            "a r r\n"
          ]
        }
      ]
    },
    {
      "cell_type": "code",
      "source": [
        "#up to but not include\n",
        "text [7:22]"
      ],
      "metadata": {
        "colab": {
          "base_uri": "https://localhost:8080/",
          "height": 35
        },
        "id": "w_jaoUJlv95W",
        "outputId": "e0eb3334-54c9-498e-e9a7-28606290cf5f"
      },
      "execution_count": null,
      "outputs": [
        {
          "output_type": "execute_result",
          "data": {
            "text/plain": [
              "'walks into a ba'"
            ],
            "application/vnd.google.colaboratory.intrinsic+json": {
              "type": "string"
            }
          },
          "metadata": {},
          "execution_count": 71
        }
      ]
    },
    {
      "cell_type": "code",
      "source": [
        "#string is immutable\n",
        "name = \"python\"\n",
        "name = \"C\" + name [1:]\n",
        "print(name)"
      ],
      "metadata": {
        "colab": {
          "base_uri": "https://localhost:8080/"
        },
        "id": "p3haaAG_0vQF",
        "outputId": "a466ca5c-76ea-487c-8370-95653623b731"
      },
      "execution_count": null,
      "outputs": [
        {
          "output_type": "stream",
          "name": "stdout",
          "text": [
            "Cython\n"
          ]
        }
      ]
    },
    {
      "cell_type": "code",
      "source": [
        "#method\n",
        "text = \"a duck walks into a bar\"\n",
        "text.upper()"
      ],
      "metadata": {
        "colab": {
          "base_uri": "https://localhost:8080/",
          "height": 35
        },
        "id": "W7eJIbgh16jo",
        "outputId": "387a1900-5ad4-4894-fc59-19d975fdfbad"
      },
      "execution_count": null,
      "outputs": [
        {
          "output_type": "execute_result",
          "data": {
            "text/plain": [
              "'A DUCK WALKS INTO A BAR'"
            ],
            "application/vnd.google.colaboratory.intrinsic+json": {
              "type": "string"
            }
          },
          "metadata": {},
          "execution_count": 73
        }
      ]
    },
    {
      "cell_type": "code",
      "source": [
        "text.title()"
      ],
      "metadata": {
        "colab": {
          "base_uri": "https://localhost:8080/",
          "height": 35
        },
        "id": "SHg7uLIw2Kwz",
        "outputId": "20c1ab65-a468-4340-95d5-9d5d5eb2e2d7"
      },
      "execution_count": null,
      "outputs": [
        {
          "output_type": "execute_result",
          "data": {
            "text/plain": [
              "'A Duck Walks Into A Bar'"
            ],
            "application/vnd.google.colaboratory.intrinsic+json": {
              "type": "string"
            }
          },
          "metadata": {},
          "execution_count": 74
        }
      ]
    },
    {
      "cell_type": "code",
      "source": [
        "text.replace(\"duck\",\"lion\")"
      ],
      "metadata": {
        "colab": {
          "base_uri": "https://localhost:8080/",
          "height": 35
        },
        "id": "qXjmlwaL2cB9",
        "outputId": "dc8d90d0-9815-48b6-e15e-c615f52b2c62"
      },
      "execution_count": null,
      "outputs": [
        {
          "output_type": "execute_result",
          "data": {
            "text/plain": [
              "'a lion walks into a bar'"
            ],
            "application/vnd.google.colaboratory.intrinsic+json": {
              "type": "string"
            }
          },
          "metadata": {},
          "execution_count": 75
        }
      ]
    },
    {
      "cell_type": "code",
      "source": [
        "words = text.split(\" \")\n",
        "print(words, type(words))"
      ],
      "metadata": {
        "colab": {
          "base_uri": "https://localhost:8080/"
        },
        "id": "pvFYwlHj2wJe",
        "outputId": "8e8a131c-9bc0-4bd0-e359-eb70f09cc766"
      },
      "execution_count": null,
      "outputs": [
        {
          "output_type": "stream",
          "name": "stdout",
          "text": [
            "['a', 'duck', 'walks', 'into', 'a', 'bar'] <class 'list'>\n"
          ]
        }
      ]
    },
    {
      "cell_type": "code",
      "source": [
        "\" \".join(words)"
      ],
      "metadata": {
        "colab": {
          "base_uri": "https://localhost:8080/",
          "height": 35
        },
        "id": "4PvZSscE21lJ",
        "outputId": "7d5c68d3-a95d-43c0-c768-b184a50a72ae"
      },
      "execution_count": null,
      "outputs": [
        {
          "output_type": "execute_result",
          "data": {
            "text/plain": [
              "'a duck walks into a bar'"
            ],
            "application/vnd.google.colaboratory.intrinsic+json": {
              "type": "string"
            }
          },
          "metadata": {},
          "execution_count": 78
        }
      ]
    },
    {
      "cell_type": "code",
      "source": [
        "# method = function that is built for that object\n",
        "##string methods\n",
        "# string is immutable --> cannot update the same object // need to rewrite"
      ],
      "metadata": {
        "id": "nk51YDrb3L8a"
      },
      "execution_count": null,
      "outputs": []
    },
    {
      "cell_type": "code",
      "source": [
        "#data structure\n",
        "#1. list []\n",
        "#2. tuple ()\n",
        "#3. dictionary {}\n",
        "#4. set {unique}"
      ],
      "metadata": {
        "id": "GmFp3rMa3fdM"
      },
      "execution_count": null,
      "outputs": []
    },
    {
      "cell_type": "code",
      "source": [
        "#list\n",
        "shopping_items = [\"banana\", \"egg\", \"milk\"]\n",
        "shopping_items[0] = \"pineapple\" #list is mutable\n",
        "print(shopping_items[0])\n",
        "print(shopping_items[1])\n",
        "print(shopping_items[2])"
      ],
      "metadata": {
        "colab": {
          "base_uri": "https://localhost:8080/"
        },
        "id": "qqeEdMpw4P_F",
        "outputId": "ddb28822-5b93-4366-e63a-6c3997d8b17b"
      },
      "execution_count": null,
      "outputs": [
        {
          "output_type": "stream",
          "name": "stdout",
          "text": [
            "pineapple\n",
            "egg\n",
            "milk\n"
          ]
        }
      ]
    },
    {
      "cell_type": "code",
      "source": [
        "#list method\n",
        "shopping_items.append(\"egg\")\n",
        "print(shopping_items)"
      ],
      "metadata": {
        "colab": {
          "base_uri": "https://localhost:8080/"
        },
        "id": "vEMwT1g14c5_",
        "outputId": "793e548f-c4bb-40a1-99be-24abeed71a37"
      },
      "execution_count": null,
      "outputs": [
        {
          "output_type": "stream",
          "name": "stdout",
          "text": [
            "['pineapple', 'milk', 'egg', 'egg', 'egg']\n"
          ]
        }
      ]
    },
    {
      "cell_type": "code",
      "source": [
        "#sort items\n",
        "shopping_items.sort(reverse=True)\n",
        "print(shopping_items)"
      ],
      "metadata": {
        "colab": {
          "base_uri": "https://localhost:8080/"
        },
        "id": "EOg8uInC5ZKG",
        "outputId": "317dca58-74cf-4acc-88ad-cae5ce32ffe7"
      },
      "execution_count": null,
      "outputs": [
        {
          "output_type": "stream",
          "name": "stdout",
          "text": [
            "['pineapple', 'milk', 'egg', 'egg']\n"
          ]
        }
      ]
    },
    {
      "cell_type": "code",
      "source": [
        "def mean(scores):\n",
        "    return sum(scores)/len(scores)"
      ],
      "metadata": {
        "id": "HBCk62Rx5_Ix"
      },
      "execution_count": null,
      "outputs": []
    },
    {
      "cell_type": "code",
      "source": [
        "scores = [90, 88, 85, 92, 75]\n",
        "print(sum(scores),\n",
        "      min(scores), max(scores), len(scores),\n",
        "      mean(scores))"
      ],
      "metadata": {
        "colab": {
          "base_uri": "https://localhost:8080/"
        },
        "id": "Xc0p7PEZ5gUz",
        "outputId": "5d6443cb-70e6-45d2-91b1-561e85820666"
      },
      "execution_count": null,
      "outputs": [
        {
          "output_type": "stream",
          "name": "stdout",
          "text": [
            "430 75 92 5 86.0\n"
          ]
        }
      ]
    },
    {
      "cell_type": "code",
      "source": [
        "#remove last item in list\n",
        "shopping_items.pop()\n",
        "shopping_items"
      ],
      "metadata": {
        "colab": {
          "base_uri": "https://localhost:8080/"
        },
        "id": "EulUla_B6P9r",
        "outputId": "d1721fb2-7d96-4fb8-a156-0dbc4e54f3d7"
      },
      "execution_count": null,
      "outputs": [
        {
          "output_type": "execute_result",
          "data": {
            "text/plain": [
              "['pineapple', 'milk']"
            ]
          },
          "metadata": {},
          "execution_count": 101
        }
      ]
    },
    {
      "cell_type": "code",
      "source": [
        "shopping_items.append(\"egg\")\n",
        "shopping_items"
      ],
      "metadata": {
        "colab": {
          "base_uri": "https://localhost:8080/"
        },
        "id": "TI2UNfTr6vVl",
        "outputId": "58a0e8f6-956d-4bd0-dcf8-8c62ebd2b384"
      },
      "execution_count": null,
      "outputs": [
        {
          "output_type": "execute_result",
          "data": {
            "text/plain": [
              "['pineapple', 'milk', 'egg']"
            ]
          },
          "metadata": {},
          "execution_count": 102
        }
      ]
    },
    {
      "cell_type": "code",
      "source": [
        "shopping_items.remove(\"pineapple\")\n",
        "shopping_items\n",
        "\n",
        "# .pop = remove last item\n",
        "# .remove = remove anything"
      ],
      "metadata": {
        "colab": {
          "base_uri": "https://localhost:8080/"
        },
        "id": "g7FkWDwY7CHO",
        "outputId": "1a4481ce-b9a6-46b3-e041-ed0f6af33f08"
      },
      "execution_count": null,
      "outputs": [
        {
          "output_type": "execute_result",
          "data": {
            "text/plain": [
              "['egg']"
            ]
          },
          "metadata": {},
          "execution_count": 106
        }
      ]
    },
    {
      "cell_type": "code",
      "source": [
        "# .insert = add new item in the position needed\n",
        "shopping_items.insert(1, \"milk\")\n",
        "shopping_items"
      ],
      "metadata": {
        "colab": {
          "base_uri": "https://localhost:8080/"
        },
        "id": "4oP1EoMw7P9P",
        "outputId": "a8841e76-dbf0-498f-c56d-2eb33ef1970e"
      },
      "execution_count": null,
      "outputs": [
        {
          "output_type": "execute_result",
          "data": {
            "text/plain": [
              "['egg', 'milk']"
            ]
          },
          "metadata": {},
          "execution_count": 107
        }
      ]
    },
    {
      "cell_type": "code",
      "source": [
        "#tuple () is immutable = cannot be updated\n",
        "tup_items = ('egg','bread','pepsi','egg','egg')\n",
        "tup_items"
      ],
      "metadata": {
        "colab": {
          "base_uri": "https://localhost:8080/"
        },
        "id": "OGPezy997n_f",
        "outputId": "b0b73c90-42d2-4e82-8674-a6b6b91d9107"
      },
      "execution_count": null,
      "outputs": [
        {
          "output_type": "execute_result",
          "data": {
            "text/plain": [
              "('egg', 'bread', 'pepsi', 'egg', 'egg')"
            ]
          },
          "metadata": {},
          "execution_count": 111
        }
      ]
    },
    {
      "cell_type": "code",
      "source": [
        "tup_items.count('egg')"
      ],
      "metadata": {
        "colab": {
          "base_uri": "https://localhost:8080/"
        },
        "id": "85qTDIKa8Hvp",
        "outputId": "a466a2ba-57aa-4891-f701-d9a2fed5d296"
      },
      "execution_count": null,
      "outputs": [
        {
          "output_type": "execute_result",
          "data": {
            "text/plain": [
              "3"
            ]
          },
          "metadata": {},
          "execution_count": 112
        }
      ]
    },
    {
      "cell_type": "code",
      "source": [
        "#username password\n",
        "#student1, student2\n",
        "s1 = (\"id0001\", \"12345\")\n",
        "s2 = (\"id002\", \"23456\")\n",
        "user_pw = (s1, s2)\n",
        "\n",
        "print(user_pw)"
      ],
      "metadata": {
        "colab": {
          "base_uri": "https://localhost:8080/"
        },
        "id": "-DdH3DRN8bwQ",
        "outputId": "96faa025-6a44-4f4d-d74b-216f2c4ecd75"
      },
      "execution_count": null,
      "outputs": [
        {
          "output_type": "stream",
          "name": "stdout",
          "text": [
            "(('id0001', '12345'), ('id002', '23456'))\n"
          ]
        }
      ]
    },
    {
      "cell_type": "code",
      "source": [
        "#tuple unpacking\n",
        "username, password = s1\n",
        "\n",
        "print(username, password)"
      ],
      "metadata": {
        "colab": {
          "base_uri": "https://localhost:8080/"
        },
        "id": "8Cidrktf8ymb",
        "outputId": "11ddcb1f-6d57-4d33-d493-79b21efd68cc"
      },
      "execution_count": null,
      "outputs": [
        {
          "output_type": "stream",
          "name": "stdout",
          "text": [
            "id0001 12345\n"
          ]
        }
      ]
    },
    {
      "cell_type": "code",
      "source": [
        "#tuple unpacking 3 values\n",
        "name, age, _ = (\"John Wick\", 42, 3.98)\n",
        "print(name, age) #_ is a placeholder"
      ],
      "metadata": {
        "colab": {
          "base_uri": "https://localhost:8080/"
        },
        "id": "YiuQL3Yu88pT",
        "outputId": "ba611a78-ef7e-4066-d542-64cfd566f0b7"
      },
      "execution_count": null,
      "outputs": [
        {
          "output_type": "stream",
          "name": "stdout",
          "text": [
            "John Wick 42\n"
          ]
        }
      ]
    },
    {
      "cell_type": "code",
      "source": [
        "#set{unique}\n",
        "courses = [\"Python\", \"Python\", \"R\", \"SQL\"]"
      ],
      "metadata": {
        "id": "0flxd3TJ9Shl"
      },
      "execution_count": null,
      "outputs": []
    },
    {
      "cell_type": "code",
      "source": [
        "set(courses)"
      ],
      "metadata": {
        "colab": {
          "base_uri": "https://localhost:8080/"
        },
        "id": "o4_QTFTr9t19",
        "outputId": "1ba5384c-56fd-4761-b570-f5101e7fba8b"
      },
      "execution_count": null,
      "outputs": [
        {
          "output_type": "execute_result",
          "data": {
            "text/plain": [
              "{'Python', 'R', 'SQL'}"
            ]
          },
          "metadata": {},
          "execution_count": 122
        }
      ]
    },
    {
      "cell_type": "code",
      "source": [
        "#dictionary key: value pairs\n",
        "course = {\n",
        "    \"name\": \"Data Science Bootcamp\",\n",
        "    \"duration\": \"4 Months\",\n",
        "    \"students\": 400,\n",
        "    \"replay\": True,\n",
        "    \"start_time\": \"9am\",\n",
        "    \"skills\": [\"Google Sheet\", \"SQL\", \"R\", \"Python\", \"Stats\",\"ML\",\"Dashboard\",\"Data Tranformation\"]\n",
        "}\n",
        "\n",
        "course"
      ],
      "metadata": {
        "colab": {
          "base_uri": "https://localhost:8080/"
        },
        "id": "8T0YkPOk9vm0",
        "outputId": "50c1a7db-7e5c-4f24-e0b7-fa85a03bf0f8"
      },
      "execution_count": null,
      "outputs": [
        {
          "output_type": "execute_result",
          "data": {
            "text/plain": [
              "{'name': 'Data Science Bootcamp',\n",
              " 'duration': '4 Months',\n",
              " 'students': 400,\n",
              " 'replay': True,\n",
              " 'start_time': '9am',\n",
              " 'skills': ['Google Sheet',\n",
              "  'SQL',\n",
              "  'R',\n",
              "  'Python',\n",
              "  'Stats',\n",
              "  'ML',\n",
              "  'Dashboard',\n",
              "  'Data Tranformation']}"
            ]
          },
          "metadata": {},
          "execution_count": 131
        }
      ]
    },
    {
      "cell_type": "code",
      "source": [
        "course[\"skills\"][-3:]"
      ],
      "metadata": {
        "colab": {
          "base_uri": "https://localhost:8080/"
        },
        "id": "DoOiK1WU-mv3",
        "outputId": "108f65a1-b74f-40c7-d2d8-c0d6c0a4ae4f"
      },
      "execution_count": null,
      "outputs": [
        {
          "output_type": "execute_result",
          "data": {
            "text/plain": [
              "['ML', 'Dashboard', 'Data Tranformation']"
            ]
          },
          "metadata": {},
          "execution_count": 137
        }
      ]
    },
    {
      "cell_type": "code",
      "source": [
        "list(course.keys())"
      ],
      "metadata": {
        "colab": {
          "base_uri": "https://localhost:8080/"
        },
        "id": "a9EZTSQ8_zBi",
        "outputId": "180060fd-855c-48fd-e5f3-417f5c164f27"
      },
      "execution_count": null,
      "outputs": [
        {
          "output_type": "execute_result",
          "data": {
            "text/plain": [
              "['name', 'duration', 'students', 'replay', 'skills']"
            ]
          },
          "metadata": {},
          "execution_count": 138
        }
      ]
    },
    {
      "cell_type": "code",
      "source": [
        "list(course.values())"
      ],
      "metadata": {
        "colab": {
          "base_uri": "https://localhost:8080/"
        },
        "id": "Gou6KaTOAfNI",
        "outputId": "e15ef9c9-71c7-40af-f1a1-00d87c303234"
      },
      "execution_count": null,
      "outputs": [
        {
          "output_type": "execute_result",
          "data": {
            "text/plain": [
              "['Data Science Bootcamp',\n",
              " '4 Months',\n",
              " 400,\n",
              " True,\n",
              " ['Google Sheet',\n",
              "  'SQL',\n",
              "  'R',\n",
              "  'Python',\n",
              "  'Stats',\n",
              "  'ML',\n",
              "  'Dashboard',\n",
              "  'Data Tranformation']]"
            ]
          },
          "metadata": {},
          "execution_count": 139
        }
      ]
    },
    {
      "cell_type": "code",
      "source": [
        "course.items()"
      ],
      "metadata": {
        "colab": {
          "base_uri": "https://localhost:8080/"
        },
        "id": "8SgxxCYvAhpi",
        "outputId": "162ac78f-f7f0-431e-fd2a-81fe92c004f0"
      },
      "execution_count": null,
      "outputs": [
        {
          "output_type": "execute_result",
          "data": {
            "text/plain": [
              "dict_items([('name', 'Data Science Bootcamp'), ('duration', '4 Months'), ('students', 400), ('replay', True), ('skills', ['Google Sheet', 'SQL', 'R', 'Python', 'Stats', 'ML', 'Dashboard', 'Data Tranformation'])])"
            ]
          },
          "metadata": {},
          "execution_count": 140
        }
      ]
    },
    {
      "cell_type": "code",
      "source": [
        "course.get(\"replay\")"
      ],
      "metadata": {
        "colab": {
          "base_uri": "https://localhost:8080/"
        },
        "id": "7GBoUL7hAj0K",
        "outputId": "e2378eb8-db56-41b7-b76b-daaa8b75a6b6"
      },
      "execution_count": null,
      "outputs": [
        {
          "output_type": "execute_result",
          "data": {
            "text/plain": [
              "True"
            ]
          },
          "metadata": {},
          "execution_count": 141
        }
      ]
    },
    {
      "cell_type": "code",
      "source": [
        "#recap\n",
        "#list, dictionary = mutable\n",
        "#tuple, string = immutable"
      ],
      "metadata": {
        "id": "xfqisxf6BH8c"
      },
      "execution_count": null,
      "outputs": []
    },
    {
      "cell_type": "code",
      "source": [
        "#control flow\n",
        "#if for while"
      ],
      "metadata": {
        "id": "VWK0ex6TBOhh"
      },
      "execution_count": null,
      "outputs": []
    },
    {
      "cell_type": "code",
      "source": [
        "#final exam 150 scores, pass >= 120\n",
        "def grade(score):\n",
        "    if score >= 120:\n",
        "        return \"passed\"\n",
        "    elif score >= 100:\n",
        "        return \"good\"\n",
        "    elif score >= 80:\n",
        "        return \"okay\"\n",
        "    else:\n",
        "        return \"need to read more\""
      ],
      "metadata": {
        "id": "yS0Bh200Bfwz"
      },
      "execution_count": 3,
      "outputs": []
    },
    {
      "cell_type": "code",
      "source": [
        "result = grade(95)\n",
        "print(result)"
      ],
      "metadata": {
        "colab": {
          "base_uri": "https://localhost:8080/",
          "height": 0
        },
        "id": "n0VQ39UfBub_",
        "outputId": "a3b56900-b179-4d4c-f15f-82f6fe13f2fb"
      },
      "execution_count": 6,
      "outputs": [
        {
          "output_type": "stream",
          "name": "stdout",
          "text": [
            "okay\n"
          ]
        }
      ]
    },
    {
      "cell_type": "code",
      "source": [
        "#use and, or in condition\n",
        "#course == data science, score >= 80 passed\n",
        "#course == english, score >= 70 passed\n",
        "def grade(course, score):\n",
        "    if course == 'english' and score >= 70:\n",
        "        return \"passed\"\n",
        "    elif course == 'data science' and score >= 80:\n",
        "        return \"passed\"\n",
        "    else:\n",
        "        return \"faled\""
      ],
      "metadata": {
        "id": "eQGWieSfCNYV"
      },
      "execution_count": null,
      "outputs": []
    },
    {
      "cell_type": "code",
      "source": [
        "grade(\"data science\", 81)"
      ],
      "metadata": {
        "colab": {
          "base_uri": "https://localhost:8080/",
          "height": 35
        },
        "id": "qt5V8xd7DljS",
        "outputId": "48990b9a-a41b-45b7-d1f7-eb8486e7cc38"
      },
      "execution_count": null,
      "outputs": [
        {
          "output_type": "execute_result",
          "data": {
            "text/plain": [
              "'passed'"
            ],
            "application/vnd.google.colaboratory.intrinsic+json": {
              "type": "string"
            }
          },
          "metadata": {},
          "execution_count": 153
        }
      ]
    },
    {
      "cell_type": "code",
      "source": [
        "#for loop\n",
        "#if score >= 80, passed\n",
        "def grading_all(scores):\n",
        "    new_scores = []\n",
        "    for score in scores:\n",
        "        new_scores.append(score+2)\n",
        "    return new_scores"
      ],
      "metadata": {
        "id": "fUxRqDTKDofl"
      },
      "execution_count": null,
      "outputs": []
    },
    {
      "cell_type": "code",
      "source": [
        "grading_all([75, 88, 90, 95, 52])"
      ],
      "metadata": {
        "colab": {
          "base_uri": "https://localhost:8080/"
        },
        "id": "yFDNefQ8Es-u",
        "outputId": "c488e045-4072-4f6e-e9dc-9e5f39842730"
      },
      "execution_count": null,
      "outputs": [
        {
          "output_type": "execute_result",
          "data": {
            "text/plain": [
              "[77, 90, 92, 97, 54]"
            ]
          },
          "metadata": {},
          "execution_count": 156
        }
      ]
    },
    {
      "cell_type": "code",
      "source": [
        "#list comprehension\n",
        "scores = [75, 88, 90, 95, 52]"
      ],
      "metadata": {
        "id": "QBQHqJhFFBeC"
      },
      "execution_count": null,
      "outputs": []
    },
    {
      "cell_type": "code",
      "source": [
        "[s*2 for s in scores]"
      ],
      "metadata": {
        "colab": {
          "base_uri": "https://localhost:8080/"
        },
        "id": "dvjc65c2FkUX",
        "outputId": "184a2c50-d0a7-4c35-8373-d6f90a6075ba"
      },
      "execution_count": null,
      "outputs": [
        {
          "output_type": "execute_result",
          "data": {
            "text/plain": [
              "[150, 176, 180, 190, 104]"
            ]
          },
          "metadata": {},
          "execution_count": 158
        }
      ]
    },
    {
      "cell_type": "code",
      "source": [
        "friends = [\"toy\",\"ink\",\"tita\",\"wan\"]\n",
        "[f.title() for f in friends]"
      ],
      "metadata": {
        "id": "cJUbG5aTGHhJ",
        "colab": {
          "base_uri": "https://localhost:8080/",
          "height": 0
        },
        "outputId": "6e956a25-1ca8-449f-db51-4c90a78e10db"
      },
      "execution_count": 7,
      "outputs": [
        {
          "output_type": "execute_result",
          "data": {
            "text/plain": [
              "['Toy', 'Ink', 'Tita', 'Wan']"
            ]
          },
          "metadata": {},
          "execution_count": 7
        }
      ]
    },
    {
      "cell_type": "code",
      "source": [
        "#while loop\n",
        "count = 0\n",
        "while count < 5:\n",
        "    print(\"hello\")\n",
        "    count += 1"
      ],
      "metadata": {
        "colab": {
          "base_uri": "https://localhost:8080/"
        },
        "id": "biGM-rumGWXP",
        "outputId": "b4726d4a-81fb-4e05-a8bf-55094abcb803"
      },
      "execution_count": null,
      "outputs": [
        {
          "output_type": "stream",
          "name": "stdout",
          "text": [
            "hello\n",
            "hello\n",
            "hello\n",
            "hello\n",
            "hello\n"
          ]
        }
      ]
    },
    {
      "cell_type": "code",
      "source": [
        "#chatbot for fruit order\n",
        "user_name = input(\"What is your name? \")"
      ],
      "metadata": {
        "colab": {
          "base_uri": "https://localhost:8080/"
        },
        "id": "yc7FSE74G7vo",
        "outputId": "1d622356-2ffa-4dac-9798-b71772cb001c"
      },
      "execution_count": null,
      "outputs": [
        {
          "name": "stdout",
          "output_type": "stream",
          "text": [
            "What is your name? Tita\n"
          ]
        }
      ]
    },
    {
      "cell_type": "code",
      "source": [
        "user_name"
      ],
      "metadata": {
        "colab": {
          "base_uri": "https://localhost:8080/",
          "height": 35
        },
        "id": "-q-DgntUHaQw",
        "outputId": "eafb90b2-c1e7-4bf9-8a06-34cdd8350662"
      },
      "execution_count": null,
      "outputs": [
        {
          "output_type": "execute_result",
          "data": {
            "text/plain": [
              "'Tita'"
            ],
            "application/vnd.google.colaboratory.intrinsic+json": {
              "type": "string"
            }
          },
          "metadata": {},
          "execution_count": 168
        }
      ]
    },
    {
      "cell_type": "code",
      "source": [
        "def chatbot():\n",
        "    fruits = []\n",
        "    while True:\n",
        "        fruit = input(\"What fruit do you want to order? \")\n",
        "        if fruit == \"exit\":\n",
        "            return fruits\n",
        "        fruits.append(fruit)"
      ],
      "metadata": {
        "id": "Ma-RE5HyHfFi"
      },
      "execution_count": null,
      "outputs": []
    },
    {
      "cell_type": "code",
      "source": [
        "chatbot()"
      ],
      "metadata": {
        "colab": {
          "base_uri": "https://localhost:8080/"
        },
        "id": "I8XSIz7fH4zw",
        "outputId": "516d01ca-b0b7-4f84-b75e-320b95d2a265"
      },
      "execution_count": null,
      "outputs": [
        {
          "name": "stdout",
          "output_type": "stream",
          "text": [
            "What fruit do you want to order? Milo\n",
            "What fruit do you want to order? Banana\n",
            "What fruit do you want to order? Orange\n",
            "What fruit do you want to order? Cok\n",
            "What fruit do you want to order? exit\n"
          ]
        },
        {
          "output_type": "execute_result",
          "data": {
            "text/plain": [
              "['Milo', 'Banana', 'Orange', 'Cok']"
            ]
          },
          "metadata": {},
          "execution_count": 172
        }
      ]
    },
    {
      "cell_type": "code",
      "source": [
        "54##hw01 - chatbot to order pizza\n",
        "##hw02 - pao ying choop\n",
        "##hw03 - OP"
      ],
      "metadata": {
        "id": "EvyrYzB2H6J2"
      },
      "execution_count": null,
      "outputs": []
    },
    {
      "cell_type": "code",
      "source": [
        "#OOP - Object Oriented Programing\n",
        "#Dog Class"
      ],
      "metadata": {
        "id": "aGsgmiOSIv3g"
      },
      "execution_count": null,
      "outputs": []
    },
    {
      "cell_type": "code",
      "source": [
        "class Dog:\n",
        "    def __init__(self, name, age, breed):\n",
        "        self.name = name\n",
        "        self.age = age\n",
        "        self.breed = breed\n"
      ],
      "metadata": {
        "id": "3yh8hlMeI33N"
      },
      "execution_count": null,
      "outputs": []
    },
    {
      "cell_type": "code",
      "source": [
        "dog1 = Dog(\"longong\", 17, \"poodle\")\n",
        "dog2 = Dog(\"apple\", 14, \"maltis\")\n",
        "dog3 = Dog(\"lychee\", 12, \"shizu\")"
      ],
      "metadata": {
        "id": "rF8vxU7DJGq9"
      },
      "execution_count": null,
      "outputs": []
    },
    {
      "cell_type": "code",
      "source": [
        "print(dog1.name, dog1.age, dog1.breed)\n",
        "print(dog2.name, dog2.age, dog2.breed)"
      ],
      "metadata": {
        "colab": {
          "base_uri": "https://localhost:8080/"
        },
        "id": "iGh595f0JsJm",
        "outputId": "cf90405b-da2c-4d5b-ff20-ceed05ab3bf6"
      },
      "execution_count": null,
      "outputs": [
        {
          "output_type": "stream",
          "name": "stdout",
          "text": [
            "longong 17 poodle\n",
            "apple 14 maltis\n"
          ]
        }
      ]
    },
    {
      "cell_type": "code",
      "source": [
        "dog4 = Dog(\"Noinar\", 2, \"bulldog\")"
      ],
      "metadata": {
        "id": "dw9X2w5eKYQC"
      },
      "execution_count": null,
      "outputs": []
    },
    {
      "cell_type": "code",
      "source": [
        "class Employee:\n",
        "    def __init__(self, id, name, dept, pos):\n",
        "        self.name = id\n",
        "        self.name = name\n",
        "        self.dept = dept\n",
        "        self.pos = pos #position\n",
        "\n",
        "    def hello(self):\n",
        "        print(f\"Hello! My name is {self.name}\")\n",
        "\n",
        "    def work_hours(self, hours):\n",
        "        print(f\"{self.name} works for {hours} hours\")\n",
        "\n",
        "    def change_dept(self, new_dept):\n",
        "        self.dept = new_dept\n",
        "        print(f\"{self.name} is now in {self.dept}.\")"
      ],
      "metadata": {
        "id": "-H2APDfQKsRM"
      },
      "execution_count": null,
      "outputs": []
    },
    {
      "cell_type": "code",
      "source": [
        "emp1 = Employee(1, \"John\", \"Finance\", \"Financial Analyst\")"
      ],
      "metadata": {
        "id": "ua5jqOM_LHuy"
      },
      "execution_count": null,
      "outputs": []
    },
    {
      "cell_type": "code",
      "source": [
        "print(emp1.name, emp1.pos)"
      ],
      "metadata": {
        "colab": {
          "base_uri": "https://localhost:8080/"
        },
        "id": "wIAO4fHgLfU6",
        "outputId": "bdb1bb9f-41e7-4ab0-b1fa-9c8ee348e349"
      },
      "execution_count": null,
      "outputs": [
        {
          "output_type": "stream",
          "name": "stdout",
          "text": [
            "John Financial Analyst\n"
          ]
        }
      ]
    },
    {
      "cell_type": "code",
      "source": [
        "emp1.hello()"
      ],
      "metadata": {
        "colab": {
          "base_uri": "https://localhost:8080/"
        },
        "id": "pA60zKdULjms",
        "outputId": "f75cf90c-3322-423d-ce81-6b0dc4adfa4c"
      },
      "execution_count": null,
      "outputs": [
        {
          "output_type": "stream",
          "name": "stdout",
          "text": [
            "Hello! My name is John\n"
          ]
        }
      ]
    },
    {
      "cell_type": "code",
      "source": [
        "emp1.dept"
      ],
      "metadata": {
        "colab": {
          "base_uri": "https://localhost:8080/",
          "height": 35
        },
        "id": "pCQ0ZBqfLxBO",
        "outputId": "e5e23b99-cb5c-4c38-b072-ce4f57122ee4"
      },
      "execution_count": null,
      "outputs": [
        {
          "output_type": "execute_result",
          "data": {
            "text/plain": [
              "'Finance'"
            ],
            "application/vnd.google.colaboratory.intrinsic+json": {
              "type": "string"
            }
          },
          "metadata": {},
          "execution_count": 206
        }
      ]
    },
    {
      "cell_type": "code",
      "source": [
        "emp1.change_dept(\"Data Science\")"
      ],
      "metadata": {
        "colab": {
          "base_uri": "https://localhost:8080/"
        },
        "id": "0I4DhA4JMhmj",
        "outputId": "03827c55-2920-4f23-cf95-55b0929d82fb"
      },
      "execution_count": null,
      "outputs": [
        {
          "output_type": "stream",
          "name": "stdout",
          "text": [
            "John is now in Data Science.\n"
          ]
        }
      ]
    },
    {
      "cell_type": "code",
      "source": [
        "#object: attribute => name, id, dept, pos\n",
        "##object: methos => hello(), change_dept()"
      ],
      "metadata": {
        "id": "wnJZzntxMm7-"
      },
      "execution_count": null,
      "outputs": []
    },
    {
      "cell_type": "code",
      "source": [
        "##HW 03 - create new ATM class\n",
        "class ATM:\n",
        "    def __init__(self, name, bank, balance):\n",
        "        self.name = name\n",
        "        self.bank = bank\n",
        "        self.balance = balance\n",
        "    def deposit(self, amt):\n",
        "        self.balance += amt\n",
        "\n",
        "scb = ATM( \"tita\", \"scb\", 500)\n",
        "print(scb.balance)"
      ],
      "metadata": {
        "colab": {
          "base_uri": "https://localhost:8080/"
        },
        "id": "QiU0dfVQM3mH",
        "outputId": "60d7f0a2-b0c8-4001-fe07-00f260dd124c"
      },
      "execution_count": null,
      "outputs": [
        {
          "output_type": "stream",
          "name": "stdout",
          "text": [
            "500\n"
          ]
        }
      ]
    }
  ]
}